{
 "cells": [
  {
   "cell_type": "code",
   "execution_count": null,
   "metadata": {},
   "outputs": [],
   "source": [
    "import requests\n",
    "from bs4 import BeautifulSoup\n",
    "import csv\n",
    "from tqdm import tqdm\n",
    "import time\n",
    "base_url = 'https://rapzh.com'\n",
    "\n",
    "# 读取歌手URL的CSV文件\n",
    "with open('chinese_rappers.csv', 'r', encoding='utf-8') as file:\n",
    "    reader = csv.DictReader(file)\n",
    "    artists = list(reader)\n",
    "\n",
    "# 打开用于写入歌曲数据的CSV文件\n",
    "retry_list = []\n",
    "with open('all_songs.csv', 'w', newline='', encoding='utf-8') as file:\n",
    "    fieldnames = ['rapper', 'song', 'url']\n",
    "    writer = csv.DictWriter(file, fieldnames=fieldnames)\n",
    "    writer.writeheader()\n",
    "\n",
    "    # 遍历每个歌手\n",
    "    for artist in tqdm(artists):\n",
    "        url = artist['url'] + '/songs'\n",
    "\n",
    "        while url:\n",
    "            response = requests.get(url)\n",
    "            soup = BeautifulSoup(response.text, 'html.parser')\n",
    "\n",
    "            table = soup.find('table')\n",
    "            if not table:\n",
    "                print(f\"未找到歌手 {artist['name']} 的歌曲列表\")\n",
    "                retry_list.append(artist)\n",
    "                break\n",
    "\n",
    "            for row in table.find_all('tr')[1:]:\n",
    "                song_name = row.find_all('td')[0].text.strip()\n",
    "                song_url = base_url + row.find_all('td')[0].find('a')['href']\n",
    "                writer.writerow({'rapper': artist['name'], 'song': song_name, 'url': song_url})\n",
    "\n",
    "            # 检查是否有下一页\n",
    "            next_page = soup.find('a', class_='Pagination-next')\n",
    "            if next_page:\n",
    "                url = base_url + next_page['href']\n",
    "            else:\n",
    "                url = None\n",
    "        time.sleep(5)\n",
    "\n",
    "print('爬取完成,数据已保存到 all_songs.csv 文件中。')"
   ]
  },
  {
   "cell_type": "code",
   "execution_count": 17,
   "metadata": {},
   "outputs": [
    {
     "name": "stderr",
     "output_type": "stream",
     "text": [
      "100%|██████████| 3383/3383 [2:56:14<00:00,  3.13s/it]     "
     ]
    },
    {
     "name": "stdout",
     "output_type": "stream",
     "text": [
      "爬取完成,数据已保存到 popular_songs.csv 文件中。\n"
     ]
    },
    {
     "name": "stderr",
     "output_type": "stream",
     "text": [
      "\n"
     ]
    }
   ],
   "source": [
    "import requests\n",
    "from bs4 import BeautifulSoup\n",
    "import csv\n",
    "\n",
    "# 读取歌手URL的CSV文件\n",
    "with open('chinese_rappers.csv', 'r', encoding='utf-8') as file:\n",
    "    reader = csv.DictReader(file)\n",
    "    artists = list(reader)\n",
    "\n",
    "# 打开用于写入歌曲数据的CSV文件\n",
    "with open('popular_songs.csv', 'w', newline='', encoding='utf-8') as file:\n",
    "    fieldnames = ['歌手', '歌名', '链接']\n",
    "    writer = csv.DictWriter(file, fieldnames=fieldnames)\n",
    "    writer.writeheader()\n",
    "\n",
    "    # 遍历每个歌手\n",
    "    for artist in tqdm(artists):\n",
    "        url = artist['url']\n",
    "        response = requests.get(url)\n",
    "        soup = BeautifulSoup(response.text, 'html.parser')\n",
    "\n",
    "        # 找到所有的热门歌曲链接\n",
    "        for song in soup.find_all('a', class_='song-title'):\n",
    "            song_name = song.text.strip()\n",
    "            song_url = 'https://rapzh.com' + song['href']\n",
    "            writer.writerow({'歌手': artist['name'], '歌名': song_name, '链接': song_url})\n",
    "        time.sleep(2)\n",
    "\n",
    "print('爬取完成,数据已保存到 popular_songs.csv 文件中。')"
   ]
  },
  {
   "cell_type": "code",
   "execution_count": null,
   "metadata": {},
   "outputs": [],
   "source": []
  }
 ],
 "metadata": {
  "kernelspec": {
   "display_name": "base",
   "language": "python",
   "name": "python3"
  },
  "language_info": {
   "codemirror_mode": {
    "name": "ipython",
    "version": 3
   },
   "file_extension": ".py",
   "mimetype": "text/x-python",
   "name": "python",
   "nbconvert_exporter": "python",
   "pygments_lexer": "ipython3",
   "version": "3.11.5"
  }
 },
 "nbformat": 4,
 "nbformat_minor": 2
}
