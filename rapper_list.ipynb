{
 "cells": [
  {
   "cell_type": "code",
   "execution_count": null,
   "metadata": {},
   "outputs": [],
   "source": [
    "import requests\n",
    "from bs4 import BeautifulSoup\n",
    "import time\n",
    "\n",
    "base_url = 'https://rapzh.com'\n",
    "total = 0\n",
    "output_file = 'artist_info.csv'\n",
    "def get_artist_info(url, total=0):\n",
    "    print('正在爬取', url, '已经爬取', total, '条数据')\n",
    "    count = 0\n",
    "    response = requests.get(url)\n",
    "    soup = BeautifulSoup(response.text, 'html.parser')\n",
    "    artist_names = []\n",
    "    artist_urls = []\n",
    "    for artist_link in soup.select('.ArtistItem-container'):\n",
    "        artist_name = artist_link.get_text(strip=True)\n",
    "        artist_url = base_url + artist_link['href']\n",
    "        count += 1\n",
    "        \n",
    "        artist_names.append(artist_name)\n",
    "        artist_urls.append(artist_url)\n",
    "\n",
    "    next_page_link = soup.select_one('.Pagination-next')\n",
    "    if next_page_link:\n",
    "        next_page_url = base_url + next_page_link['href']\n",
    "        \n",
    "        with open(output_file, 'a') as f:\n",
    "            for i in range(len(artist_names)):\n",
    "                f.write(artist_names[i] + ',' + artist_urls[i] + '\\n')\n",
    "        \n",
    "        get_artist_info(next_page_url, total + count)\n",
    "        time.sleep(2)\n",
    "    return \n",
    "\n",
    "# 从首页开始爬取\n",
    "start_url = 'https://rapzh.com/artists'\n",
    "get_artist_info(start_url, total)"
   ]
  },
  {
   "cell_type": "code",
   "execution_count": 15,
   "metadata": {},
   "outputs": [],
   "source": [
    "import pandas as pd\n",
    "# def get_chinese_rapper(df):\n",
    "    \n",
    "df = pd.read_csv('artist_info_clean.csv', header=None, names=['name', 'url'])\n",
    "df['name'] = df['name'].fillna('')"
   ]
  },
  {
   "cell_type": "code",
   "execution_count": 18,
   "metadata": {},
   "outputs": [],
   "source": [
    "\n",
    "english_names = ['PG One','Jony J', 'Higher Brothers', 'PO8', '3Bangz', 'Tizzy T', 'GAI', 'C-BLOCK'] \n",
    "\n",
    "# Create a boolean Series that is True for rows where the 'name' column is in the english_names list\n",
    "english_name_mask = df['name'].isin(english_names)\n",
    "\n",
    "# Combine the mask for Chinese characters and the mask for English names using the bitwise OR operator |\n",
    "mask = df['name'].str.contains('[\\u4e00-\\u9fff]', regex=True) | english_name_mask\n",
    "\n",
    "# Apply the mask to the DataFrame\n",
    "df_chinese = df[mask]"
   ]
  },
  {
   "cell_type": "code",
   "execution_count": 20,
   "metadata": {},
   "outputs": [],
   "source": [
    "df_chinese.to_csv('chinese_rappers.csv', index=False)"
   ]
  },
  {
   "cell_type": "code",
   "execution_count": null,
   "metadata": {},
   "outputs": [],
   "source": []
  }
 ],
 "metadata": {
  "kernelspec": {
   "display_name": "base",
   "language": "python",
   "name": "python3"
  },
  "language_info": {
   "codemirror_mode": {
    "name": "ipython",
    "version": 3
   },
   "file_extension": ".py",
   "mimetype": "text/x-python",
   "name": "python",
   "nbconvert_exporter": "python",
   "pygments_lexer": "ipython3",
   "version": "3.11.5"
  }
 },
 "nbformat": 4,
 "nbformat_minor": 2
}
